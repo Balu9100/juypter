{
 "cells": [
  {
   "cell_type": "markdown",
   "metadata": {},
   "source": [
    "# question 1"
   ]
  },
  {
   "cell_type": "code",
   "execution_count": null,
   "metadata": {},
   "outputs": [],
   "source": [
    "grade =float(input(\"enter your marks for the subect -\"))\n",
    "\n",
    "if grade >=90:\n",
    "    print(\"you got A grade\")\n",
    "    \n",
    "elif grade >=80:\n",
    "    print(\"you got b grade\")\n",
    "    \n",
    "elif grade >=70:\n",
    "    print(\"you got c grade\")\n",
    "    \n",
    "elif grade >=60:\n",
    "    print(\"you got d grade\")\n",
    "    \n",
    "elif grade >=50:\n",
    "    print(\"you got e grade\")\n",
    "    \n",
    "else:\n",
    "    print(\"you are failed\")"
   ]
  },
  {
   "cell_type": "markdown",
   "metadata": {},
   "source": [
    "# team india"
   ]
  },
  {
   "cell_type": "code",
   "execution_count": null,
   "metadata": {},
   "outputs": [],
   "source": [
    "print(\"guess the scores for the india team from 1 to 250..!\")\n",
    "\n",
    "score = int(input(\"enter your score ,\"))\n",
    "if (score > 250):\n",
    "    print(\"reduce your expectations..\")\n",
    "    \n",
    "elif (score==250) :\n",
    "    print(\"you're the true india\")\n",
    "    \n",
    "elif (score<=250 and score >=240):\n",
    "    print(\"close by , you are true indian fan\")\n",
    "    \n",
    "else:\n",
    "    print(\"you dont watch that match :p\")"
   ]
  },
  {
   "cell_type": "code",
   "execution_count": null,
   "metadata": {},
   "outputs": [],
   "source": [
    "#creating\n"
   ]
  },
  {
   "cell_type": "code",
   "execution_count": null,
   "metadata": {},
   "outputs": [],
   "source": [
    "file = open(\"fcs.txt\",'w')\n",
    "print(file)"
   ]
  },
  {
   "cell_type": "code",
   "execution_count": null,
   "metadata": {},
   "outputs": [],
   "source": [
    "#writing"
   ]
  },
  {
   "cell_type": "code",
   "execution_count": null,
   "metadata": {},
   "outputs": [],
   "source": [
    "file"
   ]
  },
  {
   "cell_type": "code",
   "execution_count": null,
   "metadata": {},
   "outputs": [],
   "source": [
    "file = open(\"fcs.txt\",'w')\n",
    "\n",
    "file.write(\"I LOVE FCS\")\n",
    "\n",
    "file.close()"
   ]
  },
  {
   "cell_type": "code",
   "execution_count": null,
   "metadata": {},
   "outputs": [],
   "source": [
    "#reading"
   ]
  },
  {
   "cell_type": "code",
   "execution_count": null,
   "metadata": {},
   "outputs": [],
   "source": [
    "file"
   ]
  },
  {
   "cell_type": "code",
   "execution_count": null,
   "metadata": {},
   "outputs": [],
   "source": [
    "file = open(\"fcs.txt\",'w')\n",
    "text = file.read{}\n",
    "print{text}\n",
    "file.close()"
   ]
  },
  {
   "cell_type": "markdown",
   "metadata": {},
   "source": [
    "# question 4"
   ]
  },
  {
   "cell_type": "code",
   "execution_count": null,
   "metadata": {},
   "outputs": [],
   "source": [
    "i = range(1,10000)\n",
    "n =int(input(\"how many photos u have\"))\n",
    "i=0\n",
    "whilei<n:\n",
    "    w=int(input(\"enter the width of your photo in pixel\"))\n",
    "    h=int(input(\"enter the height pf ypur photo in pixel\"))\n",
    "if(w<10000 and h>10000):\n",
    "    print(\"upload anoter..!\")\n",
    "else:\n",
    "if(w==h and w==i):\n",
    "        print(\"accept it\")\n",
    "else:\n",
    "    print(\"crop it\")"
   ]
  },
  {
   "cell_type": "code",
   "execution_count": null,
   "metadata": {},
   "outputs": [],
   "source": []
  }
 ],
 "metadata": {
  "kernelspec": {
   "display_name": "Python 3",
   "language": "python",
   "name": "python3"
  },
  "language_info": {
   "codemirror_mode": {
    "name": "ipython",
    "version": 3
   },
   "file_extension": ".py",
   "mimetype": "text/x-python",
   "name": "python",
   "nbconvert_exporter": "python",
   "pygments_lexer": "ipython3",
   "version": "3.7.6"
  }
 },
 "nbformat": 4,
 "nbformat_minor": 4
}
