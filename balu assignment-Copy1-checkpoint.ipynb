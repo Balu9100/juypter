{
 "cells": [
  {
   "cell_type": "markdown",
   "metadata": {},
   "source": [
    "# question 1"
   ]
  },
  {
   "cell_type": "code",
   "execution_count": null,
   "metadata": {},
   "outputs": [],
   "source": [
    "x = input('enter you marks')\n",
    "\n",
    "print(\"x\")\n",
    "\n",
    "if x >=90:\n",
    "    print(\"outstanding\")\n",
    "\n",
    "elif x >=80:\n",
    "    print(\"excellent\")\n",
    "    \n",
    "elif x >=70:\n",
    "    print(\"good\")\n",
    "    \n",
    "elif x >=60:\n",
    "    print(\"average\")\n",
    "    \n",
    "elif x >=50:\n",
    "    print(\"below average\")\n",
    "    \n",
    "else:\n",
    "    print(\"fail\")\n",
    "    \n",
    "    \n",
    "    \n",
    "    \n",
    "    "
   ]
  },
  {
   "cell_type": "markdown",
   "metadata": {},
   "source": [
    "# question 4\n"
   ]
  },
  {
   "cell_type": "code",
   "execution_count": null,
   "metadata": {},
   "outputs": [],
   "source": [
    "i =int(input())\n",
    "n =int(input())\n",
    "i = 0\n",
    "while i<n:\n",
    "wh = (input().split())\n",
    "w = int(wh[0])\n",
    "h = int(wh[1])\n",
    "if w<i or h<i:\n",
    "    print('upload another')\n",
    "    \n",
    "elif w==h and (w>=i and h>=i):\n",
    "    print('accepted')\n",
    "    \n",
    "else:\n",
    "    print('crop it')\n",
    "    "
   ]
  },
  {
   "cell_type": "code",
   "execution_count": null,
   "metadata": {},
   "outputs": [],
   "source": []
  },
  {
   "cell_type": "code",
   "execution_count": null,
   "metadata": {},
   "outputs": [],
   "source": []
  },
  {
   "cell_type": "code",
   "execution_count": null,
   "metadata": {},
   "outputs": [],
   "source": []
  }
 ],
 "metadata": {
  "kernelspec": {
   "display_name": "Python 3",
   "language": "python",
   "name": "python3"
  },
  "language_info": {
   "codemirror_mode": {
    "name": "ipython",
    "version": 3
   },
   "file_extension": ".py",
   "mimetype": "text/x-python",
   "name": "python",
   "nbconvert_exporter": "python",
   "pygments_lexer": "ipython3",
   "version": "3.7.6"
  }
 },
 "nbformat": 4,
 "nbformat_minor": 4
}
